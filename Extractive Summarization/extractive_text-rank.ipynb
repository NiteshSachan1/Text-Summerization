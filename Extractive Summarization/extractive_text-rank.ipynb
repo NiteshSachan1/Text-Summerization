! pip install scikit-learn


import nltk
import numpy as np
import networkx as nx
from sklearn.feature_extraction.text import TfidfVectorizer
from sklearn.metrics.pairwise import cosine_similarity
from nltk.tokenize import sent_tokenize, word_tokenize
from nltk.corpus import stopwords
import string

# Download required NLTK data files
nltk.download('punkt')
nltk.download('stopwords')

def preprocess_text(text):
    # Tokenize text into sentences
    sentences = sent_tokenize(text)
    # Remove stopwords and punctuation, and convert to lowercase
    stop_words = set(stopwords.words('english'))
    preprocessed_sentences = []
    for sentence in sentences:
        words = word_tokenize(sentence.lower())
        filtered_words = [word for word in words if word not in stop_words and word not in string.punctuation]
        preprocessed_sentences.append(' '.join(filtered_words))
    return sentences, preprocessed_sentences

def build_similarity_matrix(sentences):
    tfidf_vectorizer = TfidfVectorizer()
    tfidf_matrix = tfidf_vectorizer.fit_transform(sentences)
    similarity_matrix = cosine_similarity(tfidf_matrix)
    return similarity_matrix

def textrank_summary(text, num_sentences=3):
    original_sentences, preprocessed_sentences = preprocess_text(text)
    similarity_matrix = build_similarity_matrix(preprocessed_sentences)
    similarity_graph = nx.from_numpy_array(similarity_matrix)
    scores = nx.pagerank(similarity_graph)
    ranked_sentences = sorted(((scores[i], s) for i, s in enumerate(original_sentences)), reverse=True)
    summary = ' '.join([sentence for score, sentence in ranked_sentences[:num_sentences]])
    return summary

# Sample text for demonstration
sample_text = """
TextRank is an unsupervised extractive summarization technique based on graph-based ranking algorithms. 
It is a general-purpose algorithm that can be applied to a variety of tasks, including keyword extraction and sentence extraction. 
The algorithm constructs a graph from the text, where sentences are nodes and edges between them represent sentence similarity. 
The similarity between sentences is determined by their content overlap, usually measured by cosine similarity. 
Once the graph is constructed, the algorithm uses a variant of the PageRank algorithm to rank the sentences. 
The top-ranked sentences are then extracted to form the summary. TextRank is simple, efficient, and language-independent, 
making it a popular choice for extractive summarization.
"""

# Generate summary
summary = textrank_summary(sample_text, num_sentences=2)
print("Summary:")
print(summary)
